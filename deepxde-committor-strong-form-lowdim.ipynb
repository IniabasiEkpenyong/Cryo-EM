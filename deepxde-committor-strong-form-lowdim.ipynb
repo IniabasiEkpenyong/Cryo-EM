{
 "cells": [
  {
   "cell_type": "code",
   "execution_count": 113,
   "id": "c10ddcb6",
   "metadata": {},
   "outputs": [
    {
     "name": "stdout",
     "output_type": "stream",
     "text": [
      "Requirement already satisfied: deepxde in c:\\users\\iniek\\envs\\cryo\\lib\\site-packages (1.14.0)\n",
      "Requirement already satisfied: matplotlib in c:\\users\\iniek\\envs\\cryo\\lib\\site-packages (from deepxde) (3.10.3)\n",
      "Requirement already satisfied: numpy in c:\\users\\iniek\\envs\\cryo\\lib\\site-packages (from deepxde) (2.1.3)\n",
      "Requirement already satisfied: scikit-learn in c:\\users\\iniek\\envs\\cryo\\lib\\site-packages (from deepxde) (1.7.0)\n",
      "Requirement already satisfied: scikit-optimize>=0.9.0 in c:\\users\\iniek\\envs\\cryo\\lib\\site-packages (from deepxde) (0.10.2)\n",
      "Requirement already satisfied: scipy in c:\\users\\iniek\\envs\\cryo\\lib\\site-packages (from deepxde) (1.16.0)\n",
      "Requirement already satisfied: joblib>=0.11 in c:\\users\\iniek\\envs\\cryo\\lib\\site-packages (from scikit-optimize>=0.9.0->deepxde) (1.5.1)\n",
      "Requirement already satisfied: pyaml>=16.9 in c:\\users\\iniek\\envs\\cryo\\lib\\site-packages (from scikit-optimize>=0.9.0->deepxde) (25.5.0)\n",
      "Requirement already satisfied: packaging>=21.3 in c:\\users\\iniek\\envs\\cryo\\lib\\site-packages (from scikit-optimize>=0.9.0->deepxde) (25.0)\n",
      "Requirement already satisfied: threadpoolctl>=3.1.0 in c:\\users\\iniek\\envs\\cryo\\lib\\site-packages (from scikit-learn->deepxde) (3.6.0)\n",
      "Requirement already satisfied: contourpy>=1.0.1 in c:\\users\\iniek\\envs\\cryo\\lib\\site-packages (from matplotlib->deepxde) (1.3.2)\n",
      "Requirement already satisfied: cycler>=0.10 in c:\\users\\iniek\\envs\\cryo\\lib\\site-packages (from matplotlib->deepxde) (0.12.1)\n",
      "Requirement already satisfied: fonttools>=4.22.0 in c:\\users\\iniek\\envs\\cryo\\lib\\site-packages (from matplotlib->deepxde) (4.58.4)\n",
      "Requirement already satisfied: kiwisolver>=1.3.1 in c:\\users\\iniek\\envs\\cryo\\lib\\site-packages (from matplotlib->deepxde) (1.4.8)\n",
      "Requirement already satisfied: pillow>=8 in c:\\users\\iniek\\envs\\cryo\\lib\\site-packages (from matplotlib->deepxde) (11.2.1)\n",
      "Requirement already satisfied: pyparsing>=2.3.1 in c:\\users\\iniek\\envs\\cryo\\lib\\site-packages (from matplotlib->deepxde) (3.2.3)\n",
      "Requirement already satisfied: python-dateutil>=2.7 in c:\\users\\iniek\\envs\\cryo\\lib\\site-packages (from matplotlib->deepxde) (2.9.0.post0)\n",
      "Requirement already satisfied: PyYAML in c:\\users\\iniek\\envs\\cryo\\lib\\site-packages (from pyaml>=16.9->scikit-optimize>=0.9.0->deepxde) (6.0.2)\n",
      "Requirement already satisfied: six>=1.5 in c:\\users\\iniek\\envs\\cryo\\lib\\site-packages (from python-dateutil>=2.7->matplotlib->deepxde) (1.17.0)\n",
      "Note: you may need to restart the kernel to use updated packages.\n"
     ]
    },
    {
     "name": "stderr",
     "output_type": "stream",
     "text": [
      "\n",
      "[notice] A new release of pip is available: 24.0 -> 25.1.1\n",
      "[notice] To update, run: python.exe -m pip install --upgrade pip\n"
     ]
    },
    {
     "name": "stdout",
     "output_type": "stream",
     "text": [
      "Requirement already satisfied: tensorflow in c:\\users\\iniek\\envs\\cryo\\lib\\site-packages (2.19.0)\n",
      "Requirement already satisfied: absl-py>=1.0.0 in c:\\users\\iniek\\envs\\cryo\\lib\\site-packages (from tensorflow) (2.3.0)\n",
      "Requirement already satisfied: astunparse>=1.6.0 in c:\\users\\iniek\\envs\\cryo\\lib\\site-packages (from tensorflow) (1.6.3)\n",
      "Requirement already satisfied: flatbuffers>=24.3.25 in c:\\users\\iniek\\envs\\cryo\\lib\\site-packages (from tensorflow) (25.2.10)\n",
      "Requirement already satisfied: gast!=0.5.0,!=0.5.1,!=0.5.2,>=0.2.1 in c:\\users\\iniek\\envs\\cryo\\lib\\site-packages (from tensorflow) (0.6.0)\n",
      "Requirement already satisfied: google-pasta>=0.1.1 in c:\\users\\iniek\\envs\\cryo\\lib\\site-packages (from tensorflow) (0.2.0)\n",
      "Requirement already satisfied: libclang>=13.0.0 in c:\\users\\iniek\\envs\\cryo\\lib\\site-packages (from tensorflow) (18.1.1)\n",
      "Requirement already satisfied: opt-einsum>=2.3.2 in c:\\users\\iniek\\envs\\cryo\\lib\\site-packages (from tensorflow) (3.4.0)\n",
      "Requirement already satisfied: packaging in c:\\users\\iniek\\envs\\cryo\\lib\\site-packages (from tensorflow) (25.0)\n",
      "Requirement already satisfied: protobuf!=4.21.0,!=4.21.1,!=4.21.2,!=4.21.3,!=4.21.4,!=4.21.5,<6.0.0dev,>=3.20.3 in c:\\users\\iniek\\envs\\cryo\\lib\\site-packages (from tensorflow) (5.29.5)\n",
      "Requirement already satisfied: requests<3,>=2.21.0 in c:\\users\\iniek\\envs\\cryo\\lib\\site-packages (from tensorflow) (2.32.4)\n",
      "Requirement already satisfied: setuptools in c:\\users\\iniek\\envs\\cryo\\lib\\site-packages (from tensorflow) (80.9.0)\n",
      "Requirement already satisfied: six>=1.12.0 in c:\\users\\iniek\\envs\\cryo\\lib\\site-packages (from tensorflow) (1.17.0)\n",
      "Requirement already satisfied: termcolor>=1.1.0 in c:\\users\\iniek\\envs\\cryo\\lib\\site-packages (from tensorflow) (3.1.0)\n",
      "Requirement already satisfied: typing-extensions>=3.6.6 in c:\\users\\iniek\\envs\\cryo\\lib\\site-packages (from tensorflow) (4.14.0)\n",
      "Requirement already satisfied: wrapt>=1.11.0 in c:\\users\\iniek\\envs\\cryo\\lib\\site-packages (from tensorflow) (1.17.2)\n",
      "Requirement already satisfied: grpcio<2.0,>=1.24.3 in c:\\users\\iniek\\envs\\cryo\\lib\\site-packages (from tensorflow) (1.73.1)\n",
      "Requirement already satisfied: tensorboard~=2.19.0 in c:\\users\\iniek\\envs\\cryo\\lib\\site-packages (from tensorflow) (2.19.0)\n",
      "Requirement already satisfied: keras>=3.5.0 in c:\\users\\iniek\\envs\\cryo\\lib\\site-packages (from tensorflow) (3.10.0)\n",
      "Requirement already satisfied: numpy<2.2.0,>=1.26.0 in c:\\users\\iniek\\envs\\cryo\\lib\\site-packages (from tensorflow) (2.1.3)\n",
      "Requirement already satisfied: h5py>=3.11.0 in c:\\users\\iniek\\envs\\cryo\\lib\\site-packages (from tensorflow) (3.14.0)\n",
      "Requirement already satisfied: ml-dtypes<1.0.0,>=0.5.1 in c:\\users\\iniek\\envs\\cryo\\lib\\site-packages (from tensorflow) (0.5.1)\n",
      "Requirement already satisfied: wheel<1.0,>=0.23.0 in c:\\users\\iniek\\envs\\cryo\\lib\\site-packages (from astunparse>=1.6.0->tensorflow) (0.45.1)\n",
      "Requirement already satisfied: rich in c:\\users\\iniek\\envs\\cryo\\lib\\site-packages (from keras>=3.5.0->tensorflow) (14.0.0)\n",
      "Requirement already satisfied: namex in c:\\users\\iniek\\envs\\cryo\\lib\\site-packages (from keras>=3.5.0->tensorflow) (0.1.0)\n",
      "Requirement already satisfied: optree in c:\\users\\iniek\\envs\\cryo\\lib\\site-packages (from keras>=3.5.0->tensorflow) (0.16.0)\n",
      "Requirement already satisfied: charset_normalizer<4,>=2 in c:\\users\\iniek\\envs\\cryo\\lib\\site-packages (from requests<3,>=2.21.0->tensorflow) (3.4.2)\n",
      "Requirement already satisfied: idna<4,>=2.5 in c:\\users\\iniek\\envs\\cryo\\lib\\site-packages (from requests<3,>=2.21.0->tensorflow) (3.10)\n",
      "Requirement already satisfied: urllib3<3,>=1.21.1 in c:\\users\\iniek\\envs\\cryo\\lib\\site-packages (from requests<3,>=2.21.0->tensorflow) (2.5.0)\n",
      "Requirement already satisfied: certifi>=2017.4.17 in c:\\users\\iniek\\envs\\cryo\\lib\\site-packages (from requests<3,>=2.21.0->tensorflow) (2025.6.15)\n",
      "Requirement already satisfied: markdown>=2.6.8 in c:\\users\\iniek\\envs\\cryo\\lib\\site-packages (from tensorboard~=2.19.0->tensorflow) (3.8.2)\n",
      "Requirement already satisfied: tensorboard-data-server<0.8.0,>=0.7.0 in c:\\users\\iniek\\envs\\cryo\\lib\\site-packages (from tensorboard~=2.19.0->tensorflow) (0.7.2)\n",
      "Requirement already satisfied: werkzeug>=1.0.1 in c:\\users\\iniek\\envs\\cryo\\lib\\site-packages (from tensorboard~=2.19.0->tensorflow) (3.1.3)\n",
      "Requirement already satisfied: MarkupSafe>=2.1.1 in c:\\users\\iniek\\envs\\cryo\\lib\\site-packages (from werkzeug>=1.0.1->tensorboard~=2.19.0->tensorflow) (3.0.2)\n",
      "Requirement already satisfied: markdown-it-py>=2.2.0 in c:\\users\\iniek\\envs\\cryo\\lib\\site-packages (from rich->keras>=3.5.0->tensorflow) (3.0.0)\n",
      "Requirement already satisfied: pygments<3.0.0,>=2.13.0 in c:\\users\\iniek\\envs\\cryo\\lib\\site-packages (from rich->keras>=3.5.0->tensorflow) (2.19.2)\n",
      "Requirement already satisfied: mdurl~=0.1 in c:\\users\\iniek\\envs\\cryo\\lib\\site-packages (from markdown-it-py>=2.2.0->rich->keras>=3.5.0->tensorflow) (0.1.2)\n",
      "Note: you may need to restart the kernel to use updated packages.\n"
     ]
    },
    {
     "name": "stderr",
     "output_type": "stream",
     "text": [
      "\n",
      "[notice] A new release of pip is available: 24.0 -> 25.1.1\n",
      "[notice] To update, run: python.exe -m pip install --upgrade pip\n"
     ]
    }
   ],
   "source": [
    "# Before running these commands, create a virtual environment (outside project directory) using python -m venv \"dir_name/env_name\"\n",
    "%pip install deepxde\n",
    "%pip install tensorflow"
   ]
  },
  {
   "cell_type": "code",
   "execution_count": 114,
   "id": "6d2e78de",
   "metadata": {},
   "outputs": [
    {
     "name": "stdout",
     "output_type": "stream",
     "text": [
      "Requirement already satisfied: chart-studio in c:\\users\\iniek\\envs\\cryo\\lib\\site-packages (1.1.0)\n",
      "Requirement already satisfied: plotly in c:\\users\\iniek\\envs\\cryo\\lib\\site-packages (from chart-studio) (6.2.0)\n",
      "Requirement already satisfied: requests in c:\\users\\iniek\\envs\\cryo\\lib\\site-packages (from chart-studio) (2.32.4)\n",
      "Requirement already satisfied: retrying>=1.3.3 in c:\\users\\iniek\\envs\\cryo\\lib\\site-packages (from chart-studio) (1.4.0)\n",
      "Requirement already satisfied: six in c:\\users\\iniek\\envs\\cryo\\lib\\site-packages (from chart-studio) (1.17.0)\n",
      "Requirement already satisfied: narwhals>=1.15.1 in c:\\users\\iniek\\envs\\cryo\\lib\\site-packages (from plotly->chart-studio) (1.44.0)\n",
      "Requirement already satisfied: packaging in c:\\users\\iniek\\envs\\cryo\\lib\\site-packages (from plotly->chart-studio) (25.0)\n",
      "Requirement already satisfied: charset_normalizer<4,>=2 in c:\\users\\iniek\\envs\\cryo\\lib\\site-packages (from requests->chart-studio) (3.4.2)\n",
      "Requirement already satisfied: idna<4,>=2.5 in c:\\users\\iniek\\envs\\cryo\\lib\\site-packages (from requests->chart-studio) (3.10)\n",
      "Requirement already satisfied: urllib3<3,>=1.21.1 in c:\\users\\iniek\\envs\\cryo\\lib\\site-packages (from requests->chart-studio) (2.5.0)\n",
      "Requirement already satisfied: certifi>=2017.4.17 in c:\\users\\iniek\\envs\\cryo\\lib\\site-packages (from requests->chart-studio) (2025.6.15)\n",
      "Note: you may need to restart the kernel to use updated packages.\n"
     ]
    },
    {
     "name": "stderr",
     "output_type": "stream",
     "text": [
      "\n",
      "[notice] A new release of pip is available: 24.0 -> 25.1.1\n",
      "[notice] To update, run: python.exe -m pip install --upgrade pip\n"
     ]
    },
    {
     "name": "stdout",
     "output_type": "stream",
     "text": [
      "Requirement already satisfied: nbformat in c:\\users\\iniek\\envs\\cryo\\lib\\site-packages (5.10.4)\n",
      "Requirement already satisfied: fastjsonschema>=2.15 in c:\\users\\iniek\\envs\\cryo\\lib\\site-packages (from nbformat) (2.21.1)\n",
      "Requirement already satisfied: jsonschema>=2.6 in c:\\users\\iniek\\envs\\cryo\\lib\\site-packages (from nbformat) (4.24.0)\n",
      "Requirement already satisfied: jupyter-core!=5.0.*,>=4.12 in c:\\users\\iniek\\envs\\cryo\\lib\\site-packages (from nbformat) (5.8.1)\n",
      "Requirement already satisfied: traitlets>=5.1 in c:\\users\\iniek\\envs\\cryo\\lib\\site-packages (from nbformat) (5.14.3)\n",
      "Requirement already satisfied: attrs>=22.2.0 in c:\\users\\iniek\\envs\\cryo\\lib\\site-packages (from jsonschema>=2.6->nbformat) (25.3.0)\n",
      "Requirement already satisfied: jsonschema-specifications>=2023.03.6 in c:\\users\\iniek\\envs\\cryo\\lib\\site-packages (from jsonschema>=2.6->nbformat) (2025.4.1)\n",
      "Requirement already satisfied: referencing>=0.28.4 in c:\\users\\iniek\\envs\\cryo\\lib\\site-packages (from jsonschema>=2.6->nbformat) (0.36.2)\n",
      "Requirement already satisfied: rpds-py>=0.7.1 in c:\\users\\iniek\\envs\\cryo\\lib\\site-packages (from jsonschema>=2.6->nbformat) (0.25.1)\n",
      "Requirement already satisfied: platformdirs>=2.5 in c:\\users\\iniek\\envs\\cryo\\lib\\site-packages (from jupyter-core!=5.0.*,>=4.12->nbformat) (4.3.8)\n",
      "Requirement already satisfied: pywin32>=300 in c:\\users\\iniek\\envs\\cryo\\lib\\site-packages (from jupyter-core!=5.0.*,>=4.12->nbformat) (310)\n",
      "Requirement already satisfied: typing-extensions>=4.4.0 in c:\\users\\iniek\\envs\\cryo\\lib\\site-packages (from referencing>=0.28.4->jsonschema>=2.6->nbformat) (4.14.0)\n",
      "Note: you may need to restart the kernel to use updated packages.\n"
     ]
    },
    {
     "name": "stderr",
     "output_type": "stream",
     "text": [
      "\n",
      "[notice] A new release of pip is available: 24.0 -> 25.1.1\n",
      "[notice] To update, run: python.exe -m pip install --upgrade pip\n"
     ]
    }
   ],
   "source": [
    "%pip install chart-studio\n",
    "%pip install nbformat"
   ]
  },
  {
   "cell_type": "code",
   "execution_count": 115,
   "id": "a31263b5",
   "metadata": {},
   "outputs": [],
   "source": [
    "import deepxde as dde\n",
    "import numpy as np"
   ]
  },
  {
   "cell_type": "code",
   "execution_count": null,
   "id": "170f3b5d",
   "metadata": {},
   "outputs": [],
   "source": [
    "geo = dde.geometry.Interval(-1, 1)\n",
    "T = 0.5\n",
    "def dU(x):\n",
    "    return 4*(x[:, 0]**2 - 1)*(x[:, 0])\n",
    "\n",
    "def committor(x, q):\n",
    "    dq_x = dde.gradients.jacobian(q, x)\n",
    "    dlap_q = dde.gradients.hessian(q, x)\n",
    "    grad_U = dU(x)\n",
    "    beta = 1 / T\n",
    "    return -1/beta * dlap_q + grad_U * dq_x\n",
    "\n",
    "\n",
    "bc_a = dde.icbc.DirichletBC(geo, lambda x: 0.0, lambda x, on_boundary: on_boundary and np.isclose(x[0], -1))\n",
    "bc_b = dde.icbc.DirichletBC(geo, lambda x: 1.0, lambda x, on_boundary: on_boundary and np.isclose(x[0], 1))\n"
   ]
  },
  {
   "cell_type": "code",
   "execution_count": 111,
   "id": "71e1732f",
   "metadata": {},
   "outputs": [],
   "source": [
    "data = dde.data.pde.TimePDE(\n",
    "    geo,\n",
    "    committor, \n",
    "    [bc_a, bc_b], \n",
    "    num_domain=1000,\n",
    "    num_boundary=2,\n",
    "    num_test=500\n",
    ")"
   ]
  },
  {
   "cell_type": "code",
   "execution_count": 112,
   "id": "f55280fb",
   "metadata": {},
   "outputs": [
    {
     "name": "stdout",
     "output_type": "stream",
     "text": [
      "Compiling model...\n",
      "Building feed-forward neural network...\n",
      "'build' took 0.412130 s\n",
      "\n",
      "'compile' took 2.154755 s\n",
      "\n",
      "Training model...\n",
      "\n",
      "Step      Train loss                        Test loss                         Test metric\n",
      "0         [4.74e-02, 3.89e-02, 6.44e-01]    [4.75e-02, 3.89e-02, 6.44e-01]    []  \n",
      "1000      [1.18e-01, 3.57e-02, 3.57e-02]    [1.18e-01, 3.57e-02, 3.57e-02]    []  \n",
      "2000      [1.28e-01, 3.11e-02, 3.08e-02]    [1.28e-01, 3.11e-02, 3.08e-02]    []  \n",
      "\n",
      "Best model at step 1000:\n",
      "  train loss: 1.89e-01\n",
      "  test loss: 1.89e-01\n",
      "  test metric: []\n",
      "\n",
      "'train' took 53.025429 s\n",
      "\n"
     ]
    }
   ],
   "source": [
    "net = dde.maps.FNN([1] + [64] * 3 + [1], \"tanh\", \"Glorot normal\")\n",
    "model = dde.Model(data, net)\n",
    "model.compile(\"adam\", lr=0.001)\n",
    "losshistory, train_state = model.train(iterations=2000)"
   ]
  },
  {
   "cell_type": "code",
   "execution_count": 104,
   "id": "c4fd1b5f",
   "metadata": {},
   "outputs": [
    {
     "name": "stdout",
     "output_type": "stream",
     "text": [
      "Compiling model...\n",
      "(None, None)\n",
      "(None, None)\n",
      "'compile' took 1.155977 s\n",
      "\n",
      "Training model...\n",
      "\n",
      "Step      Train loss                        Test loss                         Test metric\n",
      "2000      [1.28e-01, 3.11e-02, 3.08e-02]    [1.28e-01, 3.11e-02, 3.08e-02]    []  \n",
      "INFO:tensorflow:Optimization terminated with:\n",
      "  Message: CONVERGENCE: RELATIVE REDUCTION OF F <= FACTR*EPSMCH\n",
      "  Objective function value: 0.189543\n",
      "  Number of iterations: 1\n",
      "  Number of functions evaluations: 31\n",
      "2019      [1.28e-01, 3.11e-02, 3.08e-02]    [1.28e-01, 3.11e-02, 3.08e-02]    []  \n",
      "\n",
      "Best model at step 1000:\n",
      "  train loss: 1.89e-01\n",
      "  test loss: 1.89e-01\n",
      "  test metric: []\n",
      "\n",
      "'train' took 5.190391 s\n",
      "\n"
     ]
    }
   ],
   "source": [
    "model.compile(\"L-BFGS-B\")\n",
    "losshistory, train_state=model.train()"
   ]
  },
  {
   "cell_type": "code",
   "execution_count": 109,
   "id": "826bda55",
   "metadata": {},
   "outputs": [
    {
     "ename": "AttributeError",
     "evalue": "'NoneType' object has no attribute 'shape'",
     "output_type": "error",
     "traceback": [
      "\u001b[31m---------------------------------------------------------------------------\u001b[39m",
      "\u001b[31mAttributeError\u001b[39m                            Traceback (most recent call last)",
      "\u001b[36mCell\u001b[39m\u001b[36m \u001b[39m\u001b[32mIn[109]\u001b[39m\u001b[32m, line 8\u001b[39m\n\u001b[32m      6\u001b[39m x_tf = tf.convert_to_tensor(x, dtype=tf.float32)\n\u001b[32m      7\u001b[39m q_tf = tf.convert_to_tensor(model.predict(x), dtype=tf.float32)\n\u001b[32m----> \u001b[39m\u001b[32m8\u001b[39m res = \u001b[43mcommittor\u001b[49m\u001b[43m(\u001b[49m\u001b[43mx_tf\u001b[49m\u001b[43m,\u001b[49m\u001b[43m \u001b[49m\u001b[43mq_tf\u001b[49m\u001b[43m)\u001b[49m\n\u001b[32m      9\u001b[39m u_pred = model.predict(x)\n\u001b[32m     11\u001b[39m plt.plot(x, u_pred, label=\u001b[33m\"\u001b[39m\u001b[33mq(x)\u001b[39m\u001b[33m\"\u001b[39m)\n",
      "\u001b[36mCell\u001b[39m\u001b[36m \u001b[39m\u001b[32mIn[107]\u001b[39m\u001b[32m, line 10\u001b[39m, in \u001b[36mcommittor\u001b[39m\u001b[34m(x, q)\u001b[39m\n\u001b[32m      8\u001b[39m \u001b[38;5;28;01mdef\u001b[39;00m\u001b[38;5;250m \u001b[39m\u001b[34mcommittor\u001b[39m(x, q):\n\u001b[32m      9\u001b[39m     dq_x = dde.gradients.jacobian(q, x, i = \u001b[32m0\u001b[39m, j = \u001b[32m0\u001b[39m)\n\u001b[32m---> \u001b[39m\u001b[32m10\u001b[39m     dlap_q = \u001b[43mdde\u001b[49m\u001b[43m.\u001b[49m\u001b[43mgradients\u001b[49m\u001b[43m.\u001b[49m\u001b[43mhessian\u001b[49m\u001b[43m(\u001b[49m\u001b[43mq\u001b[49m\u001b[43m,\u001b[49m\u001b[43m \u001b[49m\u001b[43mx\u001b[49m\u001b[43m,\u001b[49m\u001b[43m \u001b[49m\u001b[43mi\u001b[49m\u001b[43m \u001b[49m\u001b[43m=\u001b[49m\u001b[43m \u001b[49m\u001b[32;43m0\u001b[39;49m\u001b[43m,\u001b[49m\u001b[43m \u001b[49m\u001b[43mj\u001b[49m\u001b[43m \u001b[49m\u001b[43m=\u001b[49m\u001b[43m \u001b[49m\u001b[32;43m0\u001b[39;49m\u001b[43m)\u001b[49m\n\u001b[32m     11\u001b[39m     grad_U = dU(x)\n\u001b[32m     12\u001b[39m     beta = \u001b[32m1\u001b[39m / T\n",
      "\u001b[36mFile \u001b[39m\u001b[32mc:\\Users\\iniek\\Envs\\cryo\\Lib\\site-packages\\deepxde\\gradients\\gradients.py:70\u001b[39m, in \u001b[36mhessian\u001b[39m\u001b[34m(ys, xs, component, i, j)\u001b[39m\n\u001b[32m     45\u001b[39m \u001b[38;5;250m\u001b[39m\u001b[33;03m\"\"\"Compute `Hessian matrix <https://en.wikipedia.org/wiki/Hessian_matrix>`_ H as\u001b[39;00m\n\u001b[32m     46\u001b[39m \u001b[33;03mH[i, j] = d^2y / dx_i dx_j, where i,j = 0, ..., dim_x - 1.\u001b[39;00m\n\u001b[32m     47\u001b[39m \n\u001b[32m   (...)\u001b[39m\u001b[32m     67\u001b[39m \u001b[33;03m    the output shape is (batch_size_out, batch_size, 1).\u001b[39;00m\n\u001b[32m     68\u001b[39m \u001b[33;03m\"\"\"\u001b[39;00m\n\u001b[32m     69\u001b[39m \u001b[38;5;28;01mif\u001b[39;00m config.autodiff == \u001b[33m\"\u001b[39m\u001b[33mreverse\u001b[39m\u001b[33m\"\u001b[39m:\n\u001b[32m---> \u001b[39m\u001b[32m70\u001b[39m     \u001b[38;5;28;01mreturn\u001b[39;00m \u001b[43mgradients_reverse\u001b[49m\u001b[43m.\u001b[49m\u001b[43mhessian\u001b[49m\u001b[43m(\u001b[49m\u001b[43mys\u001b[49m\u001b[43m,\u001b[49m\u001b[43m \u001b[49m\u001b[43mxs\u001b[49m\u001b[43m,\u001b[49m\u001b[43m \u001b[49m\u001b[43mcomponent\u001b[49m\u001b[43m=\u001b[49m\u001b[43mcomponent\u001b[49m\u001b[43m,\u001b[49m\u001b[43m \u001b[49m\u001b[43mi\u001b[49m\u001b[43m=\u001b[49m\u001b[43mi\u001b[49m\u001b[43m,\u001b[49m\u001b[43m \u001b[49m\u001b[43mj\u001b[49m\u001b[43m=\u001b[49m\u001b[43mj\u001b[49m\u001b[43m)\u001b[49m\n\u001b[32m     71\u001b[39m \u001b[38;5;28;01mif\u001b[39;00m config.autodiff == \u001b[33m\"\u001b[39m\u001b[33mforward\u001b[39m\u001b[33m\"\u001b[39m:\n\u001b[32m     72\u001b[39m     \u001b[38;5;28;01mreturn\u001b[39;00m gradients_forward.hessian(ys, xs, component=component, i=i, j=j)\n",
      "\u001b[36mFile \u001b[39m\u001b[32mc:\\Users\\iniek\\Envs\\cryo\\Lib\\site-packages\\deepxde\\gradients\\gradients_reverse.py:149\u001b[39m, in \u001b[36mhessian\u001b[39m\u001b[34m(ys, xs, component, i, j)\u001b[39m\n\u001b[32m    148\u001b[39m \u001b[38;5;28;01mdef\u001b[39;00m\u001b[38;5;250m \u001b[39m\u001b[34mhessian\u001b[39m(ys, xs, component=\u001b[32m0\u001b[39m, i=\u001b[32m0\u001b[39m, j=\u001b[32m0\u001b[39m):\n\u001b[32m--> \u001b[39m\u001b[32m149\u001b[39m     \u001b[38;5;28;01mreturn\u001b[39;00m \u001b[43mhessian\u001b[49m\u001b[43m.\u001b[49m\u001b[43m_Hessians\u001b[49m\u001b[43m(\u001b[49m\u001b[43mys\u001b[49m\u001b[43m,\u001b[49m\u001b[43m \u001b[49m\u001b[43mxs\u001b[49m\u001b[43m,\u001b[49m\u001b[43m \u001b[49m\u001b[43mcomponent\u001b[49m\u001b[43m=\u001b[49m\u001b[43mcomponent\u001b[49m\u001b[43m,\u001b[49m\u001b[43m \u001b[49m\u001b[43mi\u001b[49m\u001b[43m=\u001b[49m\u001b[43mi\u001b[49m\u001b[43m,\u001b[49m\u001b[43m \u001b[49m\u001b[43mj\u001b[49m\u001b[43m=\u001b[49m\u001b[43mj\u001b[49m\u001b[43m)\u001b[49m\n",
      "\u001b[36mFile \u001b[39m\u001b[32mc:\\Users\\iniek\\Envs\\cryo\\Lib\\site-packages\\deepxde\\gradients\\gradients_reverse.py:140\u001b[39m, in \u001b[36mHessians.__call__\u001b[39m\u001b[34m(self, ys, xs, component, i, j)\u001b[39m\n\u001b[32m    138\u001b[39m     key = (\u001b[38;5;28mid\u001b[39m(ys[\u001b[32m0\u001b[39m]), \u001b[38;5;28mid\u001b[39m(xs), component)\n\u001b[32m    139\u001b[39m \u001b[38;5;28;01mif\u001b[39;00m key \u001b[38;5;129;01mnot\u001b[39;00m \u001b[38;5;129;01min\u001b[39;00m \u001b[38;5;28mself\u001b[39m.Hs:\n\u001b[32m--> \u001b[39m\u001b[32m140\u001b[39m     \u001b[38;5;28mself\u001b[39m.Hs[key] = \u001b[43mHessian\u001b[49m\u001b[43m(\u001b[49m\u001b[43mys\u001b[49m\u001b[43m,\u001b[49m\u001b[43m \u001b[49m\u001b[43mxs\u001b[49m\u001b[43m,\u001b[49m\u001b[43m \u001b[49m\u001b[43mcomponent\u001b[49m\u001b[43m=\u001b[49m\u001b[43mcomponent\u001b[49m\u001b[43m)\u001b[49m\n\u001b[32m    141\u001b[39m \u001b[38;5;28;01mreturn\u001b[39;00m \u001b[38;5;28mself\u001b[39m.Hs[key](i, j)\n",
      "\u001b[36mFile \u001b[39m\u001b[32mc:\\Users\\iniek\\Envs\\cryo\\Lib\\site-packages\\deepxde\\gradients\\gradients_reverse.py:114\u001b[39m, in \u001b[36mHessian.__init__\u001b[39m\u001b[34m(self, ys, xs, component)\u001b[39m\n\u001b[32m    112\u001b[39m \u001b[38;5;66;03m# There is no duplicate computation of grad_y.\u001b[39;00m\n\u001b[32m    113\u001b[39m grad_y = jacobian(ys, xs, i=component, j=\u001b[38;5;28;01mNone\u001b[39;00m)\n\u001b[32m--> \u001b[39m\u001b[32m114\u001b[39m \u001b[38;5;28mself\u001b[39m.H = \u001b[43mJacobianReverse\u001b[49m\u001b[43m(\u001b[49m\u001b[43mgrad_y\u001b[49m\u001b[43m,\u001b[49m\u001b[43m \u001b[49m\u001b[43mxs\u001b[49m\u001b[43m)\u001b[49m\n",
      "\u001b[36mFile \u001b[39m\u001b[32mc:\\Users\\iniek\\Envs\\cryo\\Lib\\site-packages\\deepxde\\gradients\\jacobian.py:25\u001b[39m, in \u001b[36mJacobian.__init__\u001b[39m\u001b[34m(self, ys, xs)\u001b[39m\n\u001b[32m     22\u001b[39m \u001b[38;5;28mself\u001b[39m.xs = xs\n\u001b[32m     24\u001b[39m \u001b[38;5;28;01mif\u001b[39;00m backend_name \u001b[38;5;129;01min\u001b[39;00m [\u001b[33m\"\u001b[39m\u001b[33mtensorflow.compat.v1\u001b[39m\u001b[33m\"\u001b[39m, \u001b[33m\"\u001b[39m\u001b[33mpaddle\u001b[39m\u001b[33m\"\u001b[39m]:\n\u001b[32m---> \u001b[39m\u001b[32m25\u001b[39m     \u001b[38;5;28mself\u001b[39m.dim_y = \u001b[43mys\u001b[49m\u001b[43m.\u001b[49m\u001b[43mshape\u001b[49m[-\u001b[32m1\u001b[39m]\n\u001b[32m     26\u001b[39m \u001b[38;5;28;01melif\u001b[39;00m backend_name \u001b[38;5;129;01min\u001b[39;00m [\u001b[33m\"\u001b[39m\u001b[33mtensorflow\u001b[39m\u001b[33m\"\u001b[39m, \u001b[33m\"\u001b[39m\u001b[33mpytorch\u001b[39m\u001b[33m\"\u001b[39m]:\n\u001b[32m     27\u001b[39m     \u001b[38;5;28;01mif\u001b[39;00m config.autodiff == \u001b[33m\"\u001b[39m\u001b[33mreverse\u001b[39m\u001b[33m\"\u001b[39m:\n\u001b[32m     28\u001b[39m         \u001b[38;5;66;03m# For reverse-mode AD, only a tensor is passed.\u001b[39;00m\n",
      "\u001b[31mAttributeError\u001b[39m: 'NoneType' object has no attribute 'shape'"
     ]
    }
   ],
   "source": [
    "import matplotlib.pyplot as plt\n",
    "import numpy as np\n",
    "import tensorflow as tf\n",
    "\n",
    "x = np.linspace(-1, 1, 100).reshape(-1, 1)\n",
    "x_tf = tf.convert_to_tensor(x, dtype=tf.float32)\n",
    "q_tf = tf.convert_to_tensor(model.predict(x), dtype=tf.float32)\n",
    "res = committor(x_tf, q_tf)\n",
    "u_pred = model.predict(x)\n",
    "\n",
    "plt.plot(x, u_pred, label=\"q(x)\")\n",
    "plt.xlabel(\"x\")\n",
    "plt.ylabel(\"Committor q(x)\")\n",
    "plt.title(\"Committor function: P[x hits 1 before -1]\")\n",
    "plt.grid(True)\n",
    "plt.legend()\n",
    "plt.show()\n",
    "# OK plan stay up and look into this like there is no tomorrow"
   ]
  }
 ],
 "metadata": {
  "kernelspec": {
   "display_name": "cryo",
   "language": "python",
   "name": "python3"
  },
  "language_info": {
   "codemirror_mode": {
    "name": "ipython",
    "version": 3
   },
   "file_extension": ".py",
   "mimetype": "text/x-python",
   "name": "python",
   "nbconvert_exporter": "python",
   "pygments_lexer": "ipython3",
   "version": "3.12.3"
  }
 },
 "nbformat": 4,
 "nbformat_minor": 5
}
