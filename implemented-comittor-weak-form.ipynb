{
 "cells": [
  {
   "cell_type": "code",
   "execution_count": 33,
   "id": "948b5c51",
   "metadata": {},
   "outputs": [],
   "source": [
    "import tensorflow as tf\n",
    "import numpy as np\n",
    "import matplotlib.pyplot as plt\n",
    "\n",
    "tf.random.set_seed(42)\n",
    "np.random.seed(42)"
   ]
  },
  {
   "cell_type": "code",
   "execution_count": 34,
   "id": "1b18ad1a",
   "metadata": {},
   "outputs": [],
   "source": [
    "d = 2\n",
    "T = 0.05\n",
    "def U(x):\n",
    "    dU_x1 = (x[:, 0:1] ** 2 - 1)**2 \n",
    "    for i in range(1, d):\n",
    "        dU_x1 += 0.3 * (x[:, i:i+1])**2\n",
    "    return dU_x1"
   ]
  },
  {
   "cell_type": "code",
   "execution_count": null,
   "id": "c0315b7f",
   "metadata": {},
   "outputs": [],
   "source": [
    "class CRYOModel(tf.keras.Model):\n",
    "    def __init__(self):\n",
    "        super(CRYOModel, self).__init__()\n",
    "        self.dense1 = tf.keras.layers.Dense(64, activation=\"tanh\", kernel_initializer=tf.keras.initializers.GlorotNormal(seed=42))\n",
    "        self.dense2 = tf.keras.layers.Dense(64, activation=\"tanh\", kernel_initializer=tf.keras.initializers.GlorotNormal(seed=42))\n",
    "        self.dense3 = tf.keras.layers.Dense(64, activation=\"tanh\", kernel_initializer=tf.keras.initializers.GlorotNormal(seed=42))\n",
    "        self.output_lay = tf.keras.layers.Dense(1)\n",
    "    \n",
    "    def call(self, inputs):\n",
    "        return self.output_lay(self.dense3(self.dense2(self.dense1(inputs))))\n",
    "\n",
    "def boltzmann_weight(x, beta=1.0):\n",
    "    return tf.exp(-U(x) * beta)\n",
    "\n",
    "@tf.function\n",
    "def loss(model, x, beta=0.05, lamb=1.0):\n",
    "\n",
    "    x0 = x[:, 0]\n",
    "\n",
    "    A = x0 < 0.25\n",
    "    B = x0 > 0.75\n",
    "    Om = tf.logical_not(tf.logical_or(A, B))\n",
    "\n",
    "    x_A = tf.boolean_mask(x, A)\n",
    "    x_B = tf.boolean_mask(x, B)\n",
    "    x_O = tf.boolean_mask(x, Om)\n",
    "\n",
    "    rho_A = boltzmann_weight(x_A, beta)\n",
    "    rho_B = boltzmann_weight(x_B, beta)\n",
    "    rho_O = boltzmann_weight(x_O, beta)\n",
    "\n",
    "    with tf.GradientTape(persistent=True) as tape:\n",
    "        tape.watch(x_O)\n",
    "        q = model(x_O)\n",
    "    grad_q = tape.gradient(q, x_O)\n",
    "    del tape\n",
    "    \n",
    "    q_A = model(x_A)\n",
    "    q_B = model(x_B)\n",
    "\n",
    "    loss_O = tf.reduce_mean(tf.reduce_sum(grad_q**2, axis=1) * rho_O)\n",
    "    loss_A = tf.reduce_mean(q_A**2 * rho_A)\n",
    "    loss_B = tf.reduce_mean((1-q_B)**2 * rho_B)\n",
    "    return loss_O + lamb*(loss_A + loss_B)\n"
   ]
  },
  {
   "cell_type": "code",
   "execution_count": 46,
   "id": "0697e369",
   "metadata": {},
   "outputs": [
    {
     "name": "stdout",
     "output_type": "stream",
     "text": [
      "Epoch 0, Total Loss: 1.6891237497329712\n",
      "Epoch 1000, Total Loss: 0.1857941895723343\n",
      "Epoch 2000, Total Loss: 0.0911124050617218\n",
      "Epoch 3000, Total Loss: 0.0457083061337471\n",
      "Epoch 4000, Total Loss: 0.032097697257995605\n",
      "Epoch 5000, Total Loss: 0.028052929788827896\n",
      "Epoch 6000, Total Loss: 0.02237103134393692\n",
      "Epoch 7000, Total Loss: 0.020634330809116364\n",
      "Epoch 8000, Total Loss: 0.02077879011631012\n",
      "Epoch 9000, Total Loss: 0.019050799310207367\n"
     ]
    }
   ],
   "source": [
    "dim = 2\n",
    "num_samples = 1000\n",
    "samples = tf.random.uniform((num_samples, dim))\n",
    "\n",
    "model = CRYOModel()\n",
    "optimizer = tf.keras.optimizers.Adam(learning_rate=0.001)\n",
    "\n",
    "epochs = 10000\n",
    "\n",
    "for epoch in range(epochs):\n",
    "    with tf.GradientTape() as tape:\n",
    "        total_loss = loss(model, samples)\n",
    "    gradients = tape.gradient(total_loss, model.trainable_variables)\n",
    "    del tape\n",
    "    optimizer.apply_gradients(zip(gradients, model.trainable_variables))\n",
    "\n",
    "    if epoch % 1000 == 0:\n",
    "        print(f\"Epoch {epoch}, Total Loss: {total_loss.numpy()}\") "
   ]
  },
  {
   "cell_type": "code",
   "execution_count": 47,
   "id": "6e3f03fb",
   "metadata": {},
   "outputs": [],
   "source": [
    "test = tf.random.uniform((1000, dim))\n",
    "u_pred = model(test)\n"
   ]
  },
  {
   "cell_type": "code",
   "execution_count": 48,
   "id": "e3483c19",
   "metadata": {},
   "outputs": [
    {
     "data": {
      "image/png": "[encoded data removed]",
      "text/plain": [
       "<Figure size 640x480 with 1 Axes>"
      ]
     },
     "metadata": {},
     "output_type": "display_data"
    }
   ],
   "source": [
    "plt.scatter(test[:, 0], u_pred, label=\"q(x)\")\n",
    "plt.xlabel(\"x\")\n",
    "plt.ylabel(\"Committor q(x)\")\n",
    "plt.title(\"Committor function: P[x hits 1 before -1]\")\n",
    "plt.grid(True)\n",
    "plt.legend()\n",
    "plt.show()"
   ]
  }
 ],
 "metadata": {
  "kernelspec": {
   "display_name": "cryo",
   "language": "python",
   "name": "python3"
  },
  "language_info": {
   "codemirror_mode": {
    "name": "ipython",
    "version": 3
   },
   "file_extension": ".py",
   "mimetype": "text/x-python",
   "name": "python",
   "nbconvert_exporter": "python",
   "pygments_lexer": "ipython3",
   "version": "3.12.3"
  }
 },
 "nbformat": 4,
 "nbformat_minor": 5
}
