{
 "cells": [
  {
   "cell_type": "code",
   "execution_count": 11,
   "id": "c10ddcb6",
   "metadata": {},
   "outputs": [
    {
     "name": "stdout",
     "output_type": "stream",
     "text": [
      "Requirement already satisfied: deepxde in c:\\users\\iniek\\envs\\cryo\\lib\\site-packages (1.14.0)\n",
      "Requirement already satisfied: matplotlib in c:\\users\\iniek\\envs\\cryo\\lib\\site-packages (from deepxde) (3.10.3)\n",
      "Requirement already satisfied: numpy in c:\\users\\iniek\\envs\\cryo\\lib\\site-packages (from deepxde) (2.1.3)\n",
      "Requirement already satisfied: scikit-learn in c:\\users\\iniek\\envs\\cryo\\lib\\site-packages (from deepxde) (1.7.0)\n",
      "Requirement already satisfied: scikit-optimize>=0.9.0 in c:\\users\\iniek\\envs\\cryo\\lib\\site-packages (from deepxde) (0.10.2)\n",
      "Requirement already satisfied: scipy in c:\\users\\iniek\\envs\\cryo\\lib\\site-packages (from deepxde) (1.16.0)\n",
      "Requirement already satisfied: joblib>=0.11 in c:\\users\\iniek\\envs\\cryo\\lib\\site-packages (from scikit-optimize>=0.9.0->deepxde) (1.5.1)\n",
      "Requirement already satisfied: pyaml>=16.9 in c:\\users\\iniek\\envs\\cryo\\lib\\site-packages (from scikit-optimize>=0.9.0->deepxde) (25.5.0)\n",
      "Requirement already satisfied: packaging>=21.3 in c:\\users\\iniek\\envs\\cryo\\lib\\site-packages (from scikit-optimize>=0.9.0->deepxde) (25.0)\n",
      "Requirement already satisfied: threadpoolctl>=3.1.0 in c:\\users\\iniek\\envs\\cryo\\lib\\site-packages (from scikit-learn->deepxde) (3.6.0)\n",
      "Requirement already satisfied: contourpy>=1.0.1 in c:\\users\\iniek\\envs\\cryo\\lib\\site-packages (from matplotlib->deepxde) (1.3.2)\n",
      "Requirement already satisfied: cycler>=0.10 in c:\\users\\iniek\\envs\\cryo\\lib\\site-packages (from matplotlib->deepxde) (0.12.1)\n",
      "Requirement already satisfied: fonttools>=4.22.0 in c:\\users\\iniek\\envs\\cryo\\lib\\site-packages (from matplotlib->deepxde) (4.58.4)\n",
      "Requirement already satisfied: kiwisolver>=1.3.1 in c:\\users\\iniek\\envs\\cryo\\lib\\site-packages (from matplotlib->deepxde) (1.4.8)\n",
      "Requirement already satisfied: pillow>=8 in c:\\users\\iniek\\envs\\cryo\\lib\\site-packages (from matplotlib->deepxde) (11.2.1)\n",
      "Requirement already satisfied: pyparsing>=2.3.1 in c:\\users\\iniek\\envs\\cryo\\lib\\site-packages (from matplotlib->deepxde) (3.2.3)\n",
      "Requirement already satisfied: python-dateutil>=2.7 in c:\\users\\iniek\\envs\\cryo\\lib\\site-packages (from matplotlib->deepxde) (2.9.0.post0)\n",
      "Requirement already satisfied: PyYAML in c:\\users\\iniek\\envs\\cryo\\lib\\site-packages (from pyaml>=16.9->scikit-optimize>=0.9.0->deepxde) (6.0.2)\n",
      "Requirement already satisfied: six>=1.5 in c:\\users\\iniek\\envs\\cryo\\lib\\site-packages (from python-dateutil>=2.7->matplotlib->deepxde) (1.17.0)\n",
      "Note: you may need to restart the kernel to use updated packages.\n"
     ]
    },
    {
     "name": "stderr",
     "output_type": "stream",
     "text": [
      "\n",
      "[notice] A new release of pip is available: 24.0 -> 25.1.1\n",
      "[notice] To update, run: python.exe -m pip install --upgrade pip\n"
     ]
    },
    {
     "name": "stdout",
     "output_type": "stream",
     "text": [
      "Requirement already satisfied: tensorflow in c:\\users\\iniek\\envs\\cryo\\lib\\site-packages (2.19.0)\n",
      "Requirement already satisfied: absl-py>=1.0.0 in c:\\users\\iniek\\envs\\cryo\\lib\\site-packages (from tensorflow) (2.3.0)\n",
      "Requirement already satisfied: astunparse>=1.6.0 in c:\\users\\iniek\\envs\\cryo\\lib\\site-packages (from tensorflow) (1.6.3)\n",
      "Requirement already satisfied: flatbuffers>=24.3.25 in c:\\users\\iniek\\envs\\cryo\\lib\\site-packages (from tensorflow) (25.2.10)\n",
      "Requirement already satisfied: gast!=0.5.0,!=0.5.1,!=0.5.2,>=0.2.1 in c:\\users\\iniek\\envs\\cryo\\lib\\site-packages (from tensorflow) (0.6.0)\n",
      "Requirement already satisfied: google-pasta>=0.1.1 in c:\\users\\iniek\\envs\\cryo\\lib\\site-packages (from tensorflow) (0.2.0)\n",
      "Requirement already satisfied: libclang>=13.0.0 in c:\\users\\iniek\\envs\\cryo\\lib\\site-packages (from tensorflow) (18.1.1)\n",
      "Requirement already satisfied: opt-einsum>=2.3.2 in c:\\users\\iniek\\envs\\cryo\\lib\\site-packages (from tensorflow) (3.4.0)\n",
      "Requirement already satisfied: packaging in c:\\users\\iniek\\envs\\cryo\\lib\\site-packages (from tensorflow) (25.0)\n",
      "Requirement already satisfied: protobuf!=4.21.0,!=4.21.1,!=4.21.2,!=4.21.3,!=4.21.4,!=4.21.5,<6.0.0dev,>=3.20.3 in c:\\users\\iniek\\envs\\cryo\\lib\\site-packages (from tensorflow) (5.29.5)\n",
      "Requirement already satisfied: requests<3,>=2.21.0 in c:\\users\\iniek\\envs\\cryo\\lib\\site-packages (from tensorflow) (2.32.4)\n",
      "Requirement already satisfied: setuptools in c:\\users\\iniek\\envs\\cryo\\lib\\site-packages (from tensorflow) (80.9.0)\n",
      "Requirement already satisfied: six>=1.12.0 in c:\\users\\iniek\\envs\\cryo\\lib\\site-packages (from tensorflow) (1.17.0)\n",
      "Requirement already satisfied: termcolor>=1.1.0 in c:\\users\\iniek\\envs\\cryo\\lib\\site-packages (from tensorflow) (3.1.0)\n",
      "Requirement already satisfied: typing-extensions>=3.6.6 in c:\\users\\iniek\\envs\\cryo\\lib\\site-packages (from tensorflow) (4.14.0)\n",
      "Requirement already satisfied: wrapt>=1.11.0 in c:\\users\\iniek\\envs\\cryo\\lib\\site-packages (from tensorflow) (1.17.2)\n",
      "Requirement already satisfied: grpcio<2.0,>=1.24.3 in c:\\users\\iniek\\envs\\cryo\\lib\\site-packages (from tensorflow) (1.73.1)\n",
      "Requirement already satisfied: tensorboard~=2.19.0 in c:\\users\\iniek\\envs\\cryo\\lib\\site-packages (from tensorflow) (2.19.0)\n",
      "Requirement already satisfied: keras>=3.5.0 in c:\\users\\iniek\\envs\\cryo\\lib\\site-packages (from tensorflow) (3.10.0)\n",
      "Requirement already satisfied: numpy<2.2.0,>=1.26.0 in c:\\users\\iniek\\envs\\cryo\\lib\\site-packages (from tensorflow) (2.1.3)\n",
      "Requirement already satisfied: h5py>=3.11.0 in c:\\users\\iniek\\envs\\cryo\\lib\\site-packages (from tensorflow) (3.14.0)\n",
      "Requirement already satisfied: ml-dtypes<1.0.0,>=0.5.1 in c:\\users\\iniek\\envs\\cryo\\lib\\site-packages (from tensorflow) (0.5.1)\n",
      "Requirement already satisfied: wheel<1.0,>=0.23.0 in c:\\users\\iniek\\envs\\cryo\\lib\\site-packages (from astunparse>=1.6.0->tensorflow) (0.45.1)\n",
      "Requirement already satisfied: rich in c:\\users\\iniek\\envs\\cryo\\lib\\site-packages (from keras>=3.5.0->tensorflow) (14.0.0)\n",
      "Requirement already satisfied: namex in c:\\users\\iniek\\envs\\cryo\\lib\\site-packages (from keras>=3.5.0->tensorflow) (0.1.0)\n",
      "Requirement already satisfied: optree in c:\\users\\iniek\\envs\\cryo\\lib\\site-packages (from keras>=3.5.0->tensorflow) (0.16.0)\n",
      "Requirement already satisfied: charset_normalizer<4,>=2 in c:\\users\\iniek\\envs\\cryo\\lib\\site-packages (from requests<3,>=2.21.0->tensorflow) (3.4.2)\n",
      "Requirement already satisfied: idna<4,>=2.5 in c:\\users\\iniek\\envs\\cryo\\lib\\site-packages (from requests<3,>=2.21.0->tensorflow) (3.10)\n",
      "Requirement already satisfied: urllib3<3,>=1.21.1 in c:\\users\\iniek\\envs\\cryo\\lib\\site-packages (from requests<3,>=2.21.0->tensorflow) (2.5.0)\n",
      "Requirement already satisfied: certifi>=2017.4.17 in c:\\users\\iniek\\envs\\cryo\\lib\\site-packages (from requests<3,>=2.21.0->tensorflow) (2025.6.15)\n",
      "Requirement already satisfied: markdown>=2.6.8 in c:\\users\\iniek\\envs\\cryo\\lib\\site-packages (from tensorboard~=2.19.0->tensorflow) (3.8.2)\n",
      "Requirement already satisfied: tensorboard-data-server<0.8.0,>=0.7.0 in c:\\users\\iniek\\envs\\cryo\\lib\\site-packages (from tensorboard~=2.19.0->tensorflow) (0.7.2)\n",
      "Requirement already satisfied: werkzeug>=1.0.1 in c:\\users\\iniek\\envs\\cryo\\lib\\site-packages (from tensorboard~=2.19.0->tensorflow) (3.1.3)\n",
      "Requirement already satisfied: MarkupSafe>=2.1.1 in c:\\users\\iniek\\envs\\cryo\\lib\\site-packages (from werkzeug>=1.0.1->tensorboard~=2.19.0->tensorflow) (3.0.2)\n",
      "Requirement already satisfied: markdown-it-py>=2.2.0 in c:\\users\\iniek\\envs\\cryo\\lib\\site-packages (from rich->keras>=3.5.0->tensorflow) (3.0.0)\n",
      "Requirement already satisfied: pygments<3.0.0,>=2.13.0 in c:\\users\\iniek\\envs\\cryo\\lib\\site-packages (from rich->keras>=3.5.0->tensorflow) (2.19.2)\n",
      "Requirement already satisfied: mdurl~=0.1 in c:\\users\\iniek\\envs\\cryo\\lib\\site-packages (from markdown-it-py>=2.2.0->rich->keras>=3.5.0->tensorflow) (0.1.2)\n",
      "Note: you may need to restart the kernel to use updated packages.\n"
     ]
    },
    {
     "name": "stderr",
     "output_type": "stream",
     "text": [
      "\n",
      "[notice] A new release of pip is available: 24.0 -> 25.1.1\n",
      "[notice] To update, run: python.exe -m pip install --upgrade pip\n"
     ]
    }
   ],
   "source": [
    "# Before running these commands, create a virtual environment (outside project directory) using python -m venv \"dir_name/env_name\"\n",
    "%pip install deepxde\n",
    "%pip install tensorflow"
   ]
  },
  {
   "cell_type": "code",
   "execution_count": 12,
   "id": "6d2e78de",
   "metadata": {},
   "outputs": [
    {
     "name": "stdout",
     "output_type": "stream",
     "text": [
      "Requirement already satisfied: chart-studio in c:\\users\\iniek\\envs\\cryo\\lib\\site-packages (1.1.0)\n",
      "Requirement already satisfied: plotly in c:\\users\\iniek\\envs\\cryo\\lib\\site-packages (from chart-studio) (6.2.0)\n",
      "Requirement already satisfied: requests in c:\\users\\iniek\\envs\\cryo\\lib\\site-packages (from chart-studio) (2.32.4)\n",
      "Requirement already satisfied: retrying>=1.3.3 in c:\\users\\iniek\\envs\\cryo\\lib\\site-packages (from chart-studio) (1.4.0)\n",
      "Requirement already satisfied: six in c:\\users\\iniek\\envs\\cryo\\lib\\site-packages (from chart-studio) (1.17.0)\n",
      "Requirement already satisfied: narwhals>=1.15.1 in c:\\users\\iniek\\envs\\cryo\\lib\\site-packages (from plotly->chart-studio) (1.44.0)\n",
      "Requirement already satisfied: packaging in c:\\users\\iniek\\envs\\cryo\\lib\\site-packages (from plotly->chart-studio) (25.0)\n",
      "Requirement already satisfied: charset_normalizer<4,>=2 in c:\\users\\iniek\\envs\\cryo\\lib\\site-packages (from requests->chart-studio) (3.4.2)\n",
      "Requirement already satisfied: idna<4,>=2.5 in c:\\users\\iniek\\envs\\cryo\\lib\\site-packages (from requests->chart-studio) (3.10)\n",
      "Requirement already satisfied: urllib3<3,>=1.21.1 in c:\\users\\iniek\\envs\\cryo\\lib\\site-packages (from requests->chart-studio) (2.5.0)\n",
      "Requirement already satisfied: certifi>=2017.4.17 in c:\\users\\iniek\\envs\\cryo\\lib\\site-packages (from requests->chart-studio) (2025.6.15)\n",
      "Note: you may need to restart the kernel to use updated packages.\n"
     ]
    },
    {
     "name": "stderr",
     "output_type": "stream",
     "text": [
      "\n",
      "[notice] A new release of pip is available: 24.0 -> 25.1.1\n",
      "[notice] To update, run: python.exe -m pip install --upgrade pip\n"
     ]
    },
    {
     "name": "stdout",
     "output_type": "stream",
     "text": [
      "Requirement already satisfied: nbformat in c:\\users\\iniek\\envs\\cryo\\lib\\site-packages (5.10.4)\n",
      "Requirement already satisfied: fastjsonschema>=2.15 in c:\\users\\iniek\\envs\\cryo\\lib\\site-packages (from nbformat) (2.21.1)\n",
      "Requirement already satisfied: jsonschema>=2.6 in c:\\users\\iniek\\envs\\cryo\\lib\\site-packages (from nbformat) (4.24.0)\n",
      "Requirement already satisfied: jupyter-core!=5.0.*,>=4.12 in c:\\users\\iniek\\envs\\cryo\\lib\\site-packages (from nbformat) (5.8.1)\n",
      "Requirement already satisfied: traitlets>=5.1 in c:\\users\\iniek\\envs\\cryo\\lib\\site-packages (from nbformat) (5.14.3)\n",
      "Requirement already satisfied: attrs>=22.2.0 in c:\\users\\iniek\\envs\\cryo\\lib\\site-packages (from jsonschema>=2.6->nbformat) (25.3.0)\n",
      "Requirement already satisfied: jsonschema-specifications>=2023.03.6 in c:\\users\\iniek\\envs\\cryo\\lib\\site-packages (from jsonschema>=2.6->nbformat) (2025.4.1)\n",
      "Requirement already satisfied: referencing>=0.28.4 in c:\\users\\iniek\\envs\\cryo\\lib\\site-packages (from jsonschema>=2.6->nbformat) (0.36.2)\n",
      "Requirement already satisfied: rpds-py>=0.7.1 in c:\\users\\iniek\\envs\\cryo\\lib\\site-packages (from jsonschema>=2.6->nbformat) (0.25.1)\n",
      "Requirement already satisfied: platformdirs>=2.5 in c:\\users\\iniek\\envs\\cryo\\lib\\site-packages (from jupyter-core!=5.0.*,>=4.12->nbformat) (4.3.8)\n",
      "Requirement already satisfied: pywin32>=300 in c:\\users\\iniek\\envs\\cryo\\lib\\site-packages (from jupyter-core!=5.0.*,>=4.12->nbformat) (310)\n",
      "Requirement already satisfied: typing-extensions>=4.4.0 in c:\\users\\iniek\\envs\\cryo\\lib\\site-packages (from referencing>=0.28.4->jsonschema>=2.6->nbformat) (4.14.0)\n",
      "Note: you may need to restart the kernel to use updated packages.\n"
     ]
    },
    {
     "name": "stderr",
     "output_type": "stream",
     "text": [
      "\n",
      "[notice] A new release of pip is available: 24.0 -> 25.1.1\n",
      "[notice] To update, run: python.exe -m pip install --upgrade pip\n"
     ]
    }
   ],
   "source": [
    "%pip install chart-studio\n",
    "%pip install nbformat"
   ]
  },
  {
   "cell_type": "code",
   "execution_count": 13,
   "id": "a31263b5",
   "metadata": {},
   "outputs": [],
   "source": [
    "import deepxde as dde\n",
    "import numpy as np"
   ]
  },
  {
   "cell_type": "code",
   "execution_count": 14,
   "id": "170f3b5d",
   "metadata": {},
   "outputs": [],
   "source": [
    "geo = dde.geometry.Interval(0, 1)\n",
    "time = dde.geometry.timedomain.TimeDomain(0, 1)\n",
    "geomtime = dde.geometry.GeometryXTime(geo, time)\n",
    "\n",
    "def heat(x, u):\n",
    "    du_t = dde.gradients.jacobian(u, x, i = 0, j = 1)\n",
    "    du_xx = dde.gradients.hessian(u, x, i = 0, j = 0)\n",
    "    return du_t - 0.4*du_xx\n",
    "\n",
    "def true_solution(X):\n",
    "    x = X[:, 0:1]\n",
    "    t = X[:, 1:2]\n",
    "    return np.exp(-(np.pi**2 * 0.4 * t))* np.sin(np.pi * x)\n",
    "\n",
    "bc = dde.icbc.DirichletBC(geomtime, lambda x: 0, lambda _, on_boundary: on_boundary)\n",
    "ic = dde.icbc.IC(geomtime, lambda x: np.sin(np.pi * x[:,0:1]), lambda _, on_initial: on_initial)"
   ]
  },
  {
   "cell_type": "code",
   "execution_count": 15,
   "id": "71e1732f",
   "metadata": {},
   "outputs": [
    {
     "name": "stdout",
     "output_type": "stream",
     "text": [
      "Warning: 2560 points required, but 2601 points sampled.\n"
     ]
    }
   ],
   "source": [
    "data = dde.data.pde.TimePDE(\n",
    "    geomtime,\n",
    "    heat, \n",
    "    [bc, ic], \n",
    "    num_domain=2560,\n",
    "    num_boundary=80,\n",
    "    num_initial=160,\n",
    "    num_test=2560\n",
    ")"
   ]
  },
  {
   "cell_type": "code",
   "execution_count": 16,
   "id": "f55280fb",
   "metadata": {},
   "outputs": [
    {
     "name": "stdout",
     "output_type": "stream",
     "text": [
      "Compiling model...\n",
      "Building feed-forward neural network...\n",
      "'build' took 0.176131 s\n",
      "\n",
      "'compile' took 0.871369 s\n",
      "\n",
      "Training model...\n",
      "\n",
      "Step      Train loss                        Test loss                         Test metric\n",
      "0         [1.31e+00, 5.38e-01, 4.01e-01]    [1.26e+00, 5.38e-01, 4.01e-01]    []  \n",
      "1000      [6.78e-03, 8.88e-03, 1.51e-02]    [3.89e-03, 8.88e-03, 1.51e-02]    []  \n",
      "2000      [1.20e-03, 2.45e-04, 4.60e-04]    [6.18e-04, 2.45e-04, 4.60e-04]    []  \n",
      "3000      [3.18e-04, 6.78e-05, 8.02e-05]    [1.77e-04, 6.78e-05, 8.02e-05]    []  \n",
      "4000      [1.75e-04, 3.69e-05, 3.25e-05]    [1.03e-04, 3.69e-05, 3.25e-05]    []  \n",
      "5000      [1.65e-04, 7.84e-05, 1.63e-04]    [1.19e-04, 7.84e-05, 1.63e-04]    []  \n",
      "\n",
      "Best model at step 4000:\n",
      "  train loss: 2.45e-04\n",
      "  test loss: 1.72e-04\n",
      "  test metric: []\n",
      "\n",
      "'train' took 31.929237 s\n",
      "\n"
     ]
    }
   ],
   "source": [
    "net = dde.maps.FNN([2] + [20] * 3 + [1], \"tanh\", \"Glorot normal\")\n",
    "model = dde.Model(data, net)\n",
    "model.compile(\"adam\", lr=0.001)\n",
    "losshistory, train_state = model.train(iterations=5000)"
   ]
  },
  {
   "cell_type": "code",
   "execution_count": 17,
   "id": "c4fd1b5f",
   "metadata": {},
   "outputs": [
    {
     "name": "stdout",
     "output_type": "stream",
     "text": [
      "Compiling model...\n",
      "'compile' took 0.315345 s\n",
      "\n",
      "Training model...\n",
      "\n",
      "Step      Train loss                        Test loss                         Test metric\n",
      "5000      [1.65e-04, 7.84e-05, 1.63e-04]    [1.19e-04, 7.84e-05, 1.63e-04]    []  \n",
      "INFO:tensorflow:Optimization terminated with:\n",
      "  Message: CONVERGENCE: RELATIVE REDUCTION OF F <= FACTR*EPSMCH\n",
      "  Objective function value: 0.000407\n",
      "  Number of iterations: 1\n",
      "  Number of functions evaluations: 37\n",
      "5016      [1.65e-04, 7.84e-05, 1.63e-04]    [1.19e-04, 7.84e-05, 1.63e-04]    []  \n",
      "\n",
      "Best model at step 4000:\n",
      "  train loss: 2.45e-04\n",
      "  test loss: 1.72e-04\n",
      "  test metric: []\n",
      "\n",
      "'train' took 0.851908 s\n",
      "\n"
     ]
    }
   ],
   "source": [
    "model.compile(\"L-BFGS-B\")\n",
    "losshistory, train_state=model.train()"
   ]
  },
  {
   "cell_type": "code",
   "execution_count": 18,
   "id": "826bda55",
   "metadata": {},
   "outputs": [
    {
     "data": {
      "image/png": "[encoded data removed]",
      "text/plain": [
       "<Figure size 640x480 with 1 Axes>"
      ]
     },
     "metadata": {},
     "output_type": "display_data"
    }
   ],
   "source": [
    "import matplotlib.pyplot as plt\n",
    "\n",
    "t = np.linspace(0, 1, 200).reshape(-1, 1)\n",
    "x = np.zeros_like(t)\n",
    "X = np.hstack((x, t))\n",
    "\n",
    "u_pred = model.predict(X)\n",
    "u_true = 0*X\n",
    "\n",
    "plt.plot(t, u_pred, label=\"Predicted\")\n",
    "plt.plot(t, u_true, \"--\", label=\"True\")\n",
    "plt.legend()\n",
    "plt.title(\"Model vs True Boundary Condition at x=0\")\n",
    "plt.show()"
   ]
  },
  {
   "cell_type": "code",
   "execution_count": 19,
   "id": "0337a0fb",
   "metadata": {},
   "outputs": [
    {
     "data": {
      "image/png": "[encoded data removed]",
      "text/plain": [
       "<Figure size 640x480 with 1 Axes>"
      ]
     },
     "metadata": {},
     "output_type": "display_data"
    }
   ],
   "source": [
    "x = np.linspace(0, 1, 200).reshape(-1, 1)\n",
    "t = np.zeros_like(x)\n",
    "X = np.hstack((x, t))\n",
    "\n",
    "u_pred = model.predict(X)\n",
    "u_true = np.sin(np.pi*x)\n",
    "\n",
    "plt.plot(x, u_pred, label=\"Predicted\")\n",
    "plt.plot(x, u_true, \"--\", label=\"Actual\")\n",
    "plt.legend()\n",
    "plt.title(\"Model vs True Initial Conditions\")\n",
    "plt.show()"
   ]
  },
  {
   "cell_type": "code",
   "execution_count": null,
   "id": "fcd47a48",
   "metadata": {},
   "outputs": [
    {
     "data": {
      "application/vnd.plotly.v1+json": {
       "config": {
        "plotlyServerURL": "https://plot.ly"
       },
       "data": [
        {
         "marker": {
          "color": {
           "bdata": "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",
           "dtype": "f4"
          },
          "colorscale": [
           [
            0,
            "#440154"
           ],
           [
            0.1111111111111111,
            "#482878"
           ],
           [
            0.2222222222222222,
            "#3e4989"
           ],
           [
            0.3333333333333333,
            "#31688e"
           ],
           [
            0.4444444444444444,
            "#26828e"
           ],
           [
            0.5555555555555556,
            "#1f9e89"
           ],
           [
            0.6666666666666666,
            "#35b779"
           ],
           [
            0.7777777777777778,
            "#6ece58"
           ],
           [
            0.8888888888888888,
            "#b5de2b"
           ],
           [
            1,
            "#fde725"
           ]
          ],
          "size": 2
         },
         "mode": "markers",
         "type": "scatter3d",
         "x": {
          "bdata": "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",
          "dtype": "f4"
         },
         "y": {
          "bdata": "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",
          "dtype": "f4"
         },
         "z": {
          "bdata": "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",
          "dtype": "f4"
         }
        }
       ],
       "layout": {
        "scene": {
         "xaxis": {
          "title": {
           "text": "x"
          }
         },
         "yaxis": {
          "title": {
           "text": "t"
          }
         },
         "zaxis": {
          "title": {
           "text": "u(x, t)"
          }
         }
        },
        "template": {
         "data": {
          "bar": [
           {
            "error_x": {
             "color": "#2a3f5f"
            },
            "error_y": {
             "color": "#2a3f5f"
            },
            "marker": {
             "line": {
              "color": "#E5ECF6",
              "width": 0.5
             },
             "pattern": {
              "fillmode": "overlay",
              "size": 10,
              "solidity": 0.2
             }
            },
            "type": "bar"
           }
          ],
          "barpolar": [
           {
            "marker": {
             "line": {
              "color": "#E5ECF6",
              "width": 0.5
             },
             "pattern": {
              "fillmode": "overlay",
              "size": 10,
              "solidity": 0.2
             }
            },
            "type": "barpolar"
           }
          ],
          "carpet": [
           {
            "aaxis": {
             "endlinecolor": "#2a3f5f",
             "gridcolor": "white",
             "linecolor": "white",
             "minorgridcolor": "white",
             "startlinecolor": "#2a3f5f"
            },
            "baxis": {
             "endlinecolor": "#2a3f5f",
             "gridcolor": "white",
             "linecolor": "white",
             "minorgridcolor": "white",
             "startlinecolor": "#2a3f5f"
            },
            "type": "carpet"
           }
          ],
          "choropleth": [
           {
            "colorbar": {
             "outlinewidth": 0,
             "ticks": ""
            },
            "type": "choropleth"
           }
          ],
          "contour": [
           {
            "colorbar": {
             "outlinewidth": 0,
             "ticks": ""
            },
            "colorscale": [
             [
              0,
              "#0d0887"
             ],
             [
              0.1111111111111111,
              "#46039f"
             ],
             [
              0.2222222222222222,
              "#7201a8"
             ],
             [
              0.3333333333333333,
              "#9c179e"
             ],
             [
              0.4444444444444444,
              "#bd3786"
             ],
             [
              0.5555555555555556,
              "#d8576b"
             ],
             [
              0.6666666666666666,
              "#ed7953"
             ],
             [
              0.7777777777777778,
              "#fb9f3a"
             ],
             [
              0.8888888888888888,
              "#fdca26"
             ],
             [
              1,
              "#f0f921"
             ]
            ],
            "type": "contour"
           }
          ],
          "contourcarpet": [
           {
            "colorbar": {
             "outlinewidth": 0,
             "ticks": ""
            },
            "type": "contourcarpet"
           }
          ],
          "heatmap": [
           {
            "colorbar": {
             "outlinewidth": 0,
             "ticks": ""
            },
            "colorscale": [
             [
              0,
              "#0d0887"
             ],
             [
              0.1111111111111111,
              "#46039f"
             ],
             [
              0.2222222222222222,
              "#7201a8"
             ],
             [
              0.3333333333333333,
              "#9c179e"
             ],
             [
              0.4444444444444444,
              "#bd3786"
             ],
             [
              0.5555555555555556,
              "#d8576b"
             ],
             [
              0.6666666666666666,
              "#ed7953"
             ],
             [
              0.7777777777777778,
              "#fb9f3a"
             ],
             [
              0.8888888888888888,
              "#fdca26"
             ],
             [
              1,
              "#f0f921"
             ]
            ],
            "type": "heatmap"
           }
          ],
          "histogram": [
           {
            "marker": {
             "pattern": {
              "fillmode": "overlay",
              "size": 10,
              "solidity": 0.2
             }
            },
            "type": "histogram"
           }
          ],
          "histogram2d": [
           {
            "colorbar": {
             "outlinewidth": 0,
             "ticks": ""
            },
            "colorscale": [
             [
              0,
              "#0d0887"
             ],
             [
              0.1111111111111111,
              "#46039f"
             ],
             [
              0.2222222222222222,
              "#7201a8"
             ],
             [
              0.3333333333333333,
              "#9c179e"
             ],
             [
              0.4444444444444444,
              "#bd3786"
             ],
             [
              0.5555555555555556,
              "#d8576b"
             ],
             [
              0.6666666666666666,
              "#ed7953"
             ],
             [
              0.7777777777777778,
              "#fb9f3a"
             ],
             [
              0.8888888888888888,
              "#fdca26"
             ],
             [
              1,
              "#f0f921"
             ]
            ],
            "type": "histogram2d"
           }
          ],
          "histogram2dcontour": [
           {
            "colorbar": {
             "outlinewidth": 0,
             "ticks": ""
            },
            "colorscale": [
             [
              0,
              "#0d0887"
             ],
             [
              0.1111111111111111,
              "#46039f"
             ],
             [
              0.2222222222222222,
              "#7201a8"
             ],
             [
              0.3333333333333333,
              "#9c179e"
             ],
             [
              0.4444444444444444,
              "#bd3786"
             ],
             [
              0.5555555555555556,
              "#d8576b"
             ],
             [
              0.6666666666666666,
              "#ed7953"
             ],
             [
              0.7777777777777778,
              "#fb9f3a"
             ],
             [
              0.8888888888888888,
              "#fdca26"
             ],
             [
              1,
              "#f0f921"
             ]
            ],
            "type": "histogram2dcontour"
           }
          ],
          "mesh3d": [
           {
            "colorbar": {
             "outlinewidth": 0,
             "ticks": ""
            },
            "type": "mesh3d"
           }
          ],
          "parcoords": [
           {
            "line": {
             "colorbar": {
              "outlinewidth": 0,
              "ticks": ""
             }
            },
            "type": "parcoords"
           }
          ],
          "pie": [
           {
            "automargin": true,
            "type": "pie"
           }
          ],
          "scatter": [
           {
            "fillpattern": {
             "fillmode": "overlay",
             "size": 10,
             "solidity": 0.2
            },
            "type": "scatter"
           }
          ],
          "scatter3d": [
           {
            "line": {
             "colorbar": {
              "outlinewidth": 0,
              "ticks": ""
             }
            },
            "marker": {
             "colorbar": {
              "outlinewidth": 0,
              "ticks": ""
             }
            },
            "type": "scatter3d"
           }
          ],
          "scattercarpet": [
           {
            "marker": {
             "colorbar": {
              "outlinewidth": 0,
              "ticks": ""
             }
            },
            "type": "scattercarpet"
           }
          ],
          "scattergeo": [
           {
            "marker": {
             "colorbar": {
              "outlinewidth": 0,
              "ticks": ""
             }
            },
            "type": "scattergeo"
           }
          ],
          "scattergl": [
           {
            "marker": {
             "colorbar": {
              "outlinewidth": 0,
              "ticks": ""
             }
            },
            "type": "scattergl"
           }
          ],
          "scattermap": [
           {
            "marker": {
             "colorbar": {
              "outlinewidth": 0,
              "ticks": ""
             }
            },
            "type": "scattermap"
           }
          ],
          "scattermapbox": [
           {
            "marker": {
             "colorbar": {
              "outlinewidth": 0,
              "ticks": ""
             }
            },
            "type": "scattermapbox"
           }
          ],
          "scatterpolar": [
           {
            "marker": {
             "colorbar": {
              "outlinewidth": 0,
              "ticks": ""
             }
            },
            "type": "scatterpolar"
           }
          ],
          "scatterpolargl": [
           {
            "marker": {
             "colorbar": {
              "outlinewidth": 0,
              "ticks": ""
             }
            },
            "type": "scatterpolargl"
           }
          ],
          "scatterternary": [
           {
            "marker": {
             "colorbar": {
              "outlinewidth": 0,
              "ticks": ""
             }
            },
            "type": "scatterternary"
           }
          ],
          "surface": [
           {
            "colorbar": {
             "outlinewidth": 0,
             "ticks": ""
            },
            "colorscale": [
             [
              0,
              "#0d0887"
             ],
             [
              0.1111111111111111,
              "#46039f"
             ],
             [
              0.2222222222222222,
              "#7201a8"
             ],
             [
              0.3333333333333333,
              "#9c179e"
             ],
             [
              0.4444444444444444,
              "#bd3786"
             ],
             [
              0.5555555555555556,
              "#d8576b"
             ],
             [
              0.6666666666666666,
              "#ed7953"
             ],
             [
              0.7777777777777778,
              "#fb9f3a"
             ],
             [
              0.8888888888888888,
              "#fdca26"
             ],
             [
              1,
              "#f0f921"
             ]
            ],
            "type": "surface"
           }
          ],
          "table": [
           {
            "cells": {
             "fill": {
              "color": "#EBF0F8"
             },
             "line": {
              "color": "white"
             }
            },
            "header": {
             "fill": {
              "color": "#C8D4E3"
             },
             "line": {
              "color": "white"
             }
            },
            "type": "table"
           }
          ]
         },
         "layout": {
          "annotationdefaults": {
           "arrowcolor": "#2a3f5f",
           "arrowhead": 0,
           "arrowwidth": 1
          },
          "autotypenumbers": "strict",
          "coloraxis": {
           "colorbar": {
            "outlinewidth": 0,
            "ticks": ""
           }
          },
          "colorscale": {
           "diverging": [
            [
             0,
             "#8e0152"
            ],
            [
             0.1,
             "#c51b7d"
            ],
            [
             0.2,
             "#de77ae"
            ],
            [
             0.3,
             "#f1b6da"
            ],
            [
             0.4,
             "#fde0ef"
            ],
            [
             0.5,
             "#f7f7f7"
            ],
            [
             0.6,
             "#e6f5d0"
            ],
            [
             0.7,
             "#b8e186"
            ],
            [
             0.8,
             "#7fbc41"
            ],
            [
             0.9,
             "#4d9221"
            ],
            [
             1,
             "#276419"
            ]
           ],
           "sequential": [
            [
             0,
             "#0d0887"
            ],
            [
             0.1111111111111111,
             "#46039f"
            ],
            [
             0.2222222222222222,
             "#7201a8"
            ],
            [
             0.3333333333333333,
             "#9c179e"
            ],
            [
             0.4444444444444444,
             "#bd3786"
            ],
            [
             0.5555555555555556,
             "#d8576b"
            ],
            [
             0.6666666666666666,
             "#ed7953"
            ],
            [
             0.7777777777777778,
             "#fb9f3a"
            ],
            [
             0.8888888888888888,
             "#fdca26"
            ],
            [
             1,
             "#f0f921"
            ]
           ],
           "sequentialminus": [
            [
             0,
             "#0d0887"
            ],
            [
             0.1111111111111111,
             "#46039f"
            ],
            [
             0.2222222222222222,
             "#7201a8"
            ],
            [
             0.3333333333333333,
             "#9c179e"
            ],
            [
             0.4444444444444444,
             "#bd3786"
            ],
            [
             0.5555555555555556,
             "#d8576b"
            ],
            [
             0.6666666666666666,
             "#ed7953"
            ],
            [
             0.7777777777777778,
             "#fb9f3a"
            ],
            [
             0.8888888888888888,
             "#fdca26"
            ],
            [
             1,
             "#f0f921"
            ]
           ]
          },
          "colorway": [
           "#636efa",
           "#EF553B",
           "#00cc96",
           "#ab63fa",
           "#FFA15A",
           "#19d3f3",
           "#FF6692",
           "#B6E880",
           "#FF97FF",
           "#FECB52"
          ],
          "font": {
           "color": "#2a3f5f"
          },
          "geo": {
           "bgcolor": "white",
           "lakecolor": "white",
           "landcolor": "#E5ECF6",
           "showlakes": true,
           "showland": true,
           "subunitcolor": "white"
          },
          "hoverlabel": {
           "align": "left"
          },
          "hovermode": "closest",
          "mapbox": {
           "style": "light"
          },
          "paper_bgcolor": "white",
          "plot_bgcolor": "#E5ECF6",
          "polar": {
           "angularaxis": {
            "gridcolor": "white",
            "linecolor": "white",
            "ticks": ""
           },
           "bgcolor": "#E5ECF6",
           "radialaxis": {
            "gridcolor": "white",
            "linecolor": "white",
            "ticks": ""
           }
          },
          "scene": {
           "xaxis": {
            "backgroundcolor": "#E5ECF6",
            "gridcolor": "white",
            "gridwidth": 2,
            "linecolor": "white",
            "showbackground": true,
            "ticks": "",
            "zerolinecolor": "white"
           },
           "yaxis": {
            "backgroundcolor": "#E5ECF6",
            "gridcolor": "white",
            "gridwidth": 2,
            "linecolor": "white",
            "showbackground": true,
            "ticks": "",
            "zerolinecolor": "white"
           },
           "zaxis": {
            "backgroundcolor": "#E5ECF6",
            "gridcolor": "white",
            "gridwidth": 2,
            "linecolor": "white",
            "showbackground": true,
            "ticks": "",
            "zerolinecolor": "white"
           }
          },
          "shapedefaults": {
           "line": {
            "color": "#2a3f5f"
           }
          },
          "ternary": {
           "aaxis": {
            "gridcolor": "white",
            "linecolor": "white",
            "ticks": ""
           },
           "baxis": {
            "gridcolor": "white",
            "linecolor": "white",
            "ticks": ""
           },
           "bgcolor": "#E5ECF6",
           "caxis": {
            "gridcolor": "white",
            "linecolor": "white",
            "ticks": ""
           }
          },
          "title": {
           "x": 0.05
          },
          "xaxis": {
           "automargin": true,
           "gridcolor": "white",
           "linecolor": "white",
           "ticks": "",
           "title": {
            "standoff": 15
           },
           "zerolinecolor": "white",
           "zerolinewidth": 2
          },
          "yaxis": {
           "automargin": true,
           "gridcolor": "white",
           "linecolor": "white",
           "ticks": "",
           "title": {
            "standoff": 15
           },
           "zerolinecolor": "white",
           "zerolinewidth": 2
          }
         }
        },
        "title": {
         "text": "Interactive 3D Plot of Predicted Heat"
        }
       }
      }
     },
     "metadata": {},
     "output_type": "display_data"
    },
    {
     "data": {
      "application/vnd.plotly.v1+json": {
       "config": {
        "plotlyServerURL": "https://plot.ly"
       },
       "data": [
        {
         "marker": {
          "color": {
           "bdata": "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",
           "dtype": "f4"
          },
          "colorscale": [
           [
            0,
            "#440154"
           ],
           [
            0.1111111111111111,
            "#482878"
           ],
           [
            0.2222222222222222,
            "#3e4989"
           ],
           [
            0.3333333333333333,
            "#31688e"
           ],
           [
            0.4444444444444444,
            "#26828e"
           ],
           [
            0.5555555555555556,
            "#1f9e89"
           ],
           [
            0.6666666666666666,
            "#35b779"
           ],
           [
            0.7777777777777778,
            "#6ece58"
           ],
           [
            0.8888888888888888,
            "#b5de2b"
           ],
           [
            1,
            "#fde725"
           ]
          ],
          "size": 2
         },
         "mode": "markers",
         "type": "scatter3d",
         "x": {
          "bdata": "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",
          "dtype": "f4"
         },
         "y": {
          "bdata": "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",
          "dtype": "f4"
         },
         "z": {
          "bdata": "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",
          "dtype": "f4"
         }
        }
       ],
       "layout": {
        "scene": {
         "xaxis": {
          "title": {
           "text": "x"
          }
         },
         "yaxis": {
          "title": {
           "text": "t"
          }
         },
         "zaxis": {
          "title": {
           "text": "u(x, t)"
          }
         }
        },
        "template": {
         "data": {
          "bar": [
           {
            "error_x": {
             "color": "#2a3f5f"
            },
            "error_y": {
             "color": "#2a3f5f"
            },
            "marker": {
             "line": {
              "color": "#E5ECF6",
              "width": 0.5
             },
             "pattern": {
              "fillmode": "overlay",
              "size": 10,
              "solidity": 0.2
             }
            },
            "type": "bar"
           }
          ],
          "barpolar": [
           {
            "marker": {
             "line": {
              "color": "#E5ECF6",
              "width": 0.5
             },
             "pattern": {
              "fillmode": "overlay",
              "size": 10,
              "solidity": 0.2
             }
            },
            "type": "barpolar"
           }
          ],
          "carpet": [
           {
            "aaxis": {
             "endlinecolor": "#2a3f5f",
             "gridcolor": "white",
             "linecolor": "white",
             "minorgridcolor": "white",
             "startlinecolor": "#2a3f5f"
            },
            "baxis": {
             "endlinecolor": "#2a3f5f",
             "gridcolor": "white",
             "linecolor": "white",
             "minorgridcolor": "white",
             "startlinecolor": "#2a3f5f"
            },
            "type": "carpet"
           }
          ],
          "choropleth": [
           {
            "colorbar": {
             "outlinewidth": 0,
             "ticks": ""
            },
            "type": "choropleth"
           }
          ],
          "contour": [
           {
            "colorbar": {
             "outlinewidth": 0,
             "ticks": ""
            },
            "colorscale": [
             [
              0,
              "#0d0887"
             ],
             [
              0.1111111111111111,
              "#46039f"
             ],
             [
              0.2222222222222222,
              "#7201a8"
             ],
             [
              0.3333333333333333,
              "#9c179e"
             ],
             [
              0.4444444444444444,
              "#bd3786"
             ],
             [
              0.5555555555555556,
              "#d8576b"
             ],
             [
              0.6666666666666666,
              "#ed7953"
             ],
             [
              0.7777777777777778,
              "#fb9f3a"
             ],
             [
              0.8888888888888888,
              "#fdca26"
             ],
             [
              1,
              "#f0f921"
             ]
            ],
            "type": "contour"
           }
          ],
          "contourcarpet": [
           {
            "colorbar": {
             "outlinewidth": 0,
             "ticks": ""
            },
            "type": "contourcarpet"
           }
          ],
          "heatmap": [
           {
            "colorbar": {
             "outlinewidth": 0,
             "ticks": ""
            },
            "colorscale": [
             [
              0,
              "#0d0887"
             ],
             [
              0.1111111111111111,
              "#46039f"
             ],
             [
              0.2222222222222222,
              "#7201a8"
             ],
             [
              0.3333333333333333,
              "#9c179e"
             ],
             [
              0.4444444444444444,
              "#bd3786"
             ],
             [
              0.5555555555555556,
              "#d8576b"
             ],
             [
              0.6666666666666666,
              "#ed7953"
             ],
             [
              0.7777777777777778,
              "#fb9f3a"
             ],
             [
              0.8888888888888888,
              "#fdca26"
             ],
             [
              1,
              "#f0f921"
             ]
            ],
            "type": "heatmap"
           }
          ],
          "histogram": [
           {
            "marker": {
             "pattern": {
              "fillmode": "overlay",
              "size": 10,
              "solidity": 0.2
             }
            },
            "type": "histogram"
           }
          ],
          "histogram2d": [
           {
            "colorbar": {
             "outlinewidth": 0,
             "ticks": ""
            },
            "colorscale": [
             [
              0,
              "#0d0887"
             ],
             [
              0.1111111111111111,
              "#46039f"
             ],
             [
              0.2222222222222222,
              "#7201a8"
             ],
             [
              0.3333333333333333,
              "#9c179e"
             ],
             [
              0.4444444444444444,
              "#bd3786"
             ],
             [
              0.5555555555555556,
              "#d8576b"
             ],
             [
              0.6666666666666666,
              "#ed7953"
             ],
             [
              0.7777777777777778,
              "#fb9f3a"
             ],
             [
              0.8888888888888888,
              "#fdca26"
             ],
             [
              1,
              "#f0f921"
             ]
            ],
            "type": "histogram2d"
           }
          ],
          "histogram2dcontour": [
           {
            "colorbar": {
             "outlinewidth": 0,
             "ticks": ""
            },
            "colorscale": [
             [
              0,
              "#0d0887"
             ],
             [
              0.1111111111111111,
              "#46039f"
             ],
             [
              0.2222222222222222,
              "#7201a8"
             ],
             [
              0.3333333333333333,
              "#9c179e"
             ],
             [
              0.4444444444444444,
              "#bd3786"
             ],
             [
              0.5555555555555556,
              "#d8576b"
             ],
             [
              0.6666666666666666,
              "#ed7953"
             ],
             [
              0.7777777777777778,
              "#fb9f3a"
             ],
             [
              0.8888888888888888,
              "#fdca26"
             ],
             [
              1,
              "#f0f921"
             ]
            ],
            "type": "histogram2dcontour"
           }
          ],
          "mesh3d": [
           {
            "colorbar": {
             "outlinewidth": 0,
             "ticks": ""
            },
            "type": "mesh3d"
           }
          ],
          "parcoords": [
           {
            "line": {
             "colorbar": {
              "outlinewidth": 0,
              "ticks": ""
             }
            },
            "type": "parcoords"
           }
          ],
          "pie": [
           {
            "automargin": true,
            "type": "pie"
           }
          ],
          "scatter": [
           {
            "fillpattern": {
             "fillmode": "overlay",
             "size": 10,
             "solidity": 0.2
            },
            "type": "scatter"
           }
          ],
          "scatter3d": [
           {
            "line": {
             "colorbar": {
              "outlinewidth": 0,
              "ticks": ""
             }
            },
            "marker": {
             "colorbar": {
              "outlinewidth": 0,
              "ticks": ""
             }
            },
            "type": "scatter3d"
           }
          ],
          "scattercarpet": [
           {
            "marker": {
             "colorbar": {
              "outlinewidth": 0,
              "ticks": ""
             }
            },
            "type": "scattercarpet"
           }
          ],
          "scattergeo": [
           {
            "marker": {
             "colorbar": {
              "outlinewidth": 0,
              "ticks": ""
             }
            },
            "type": "scattergeo"
           }
          ],
          "scattergl": [
           {
            "marker": {
             "colorbar": {
              "outlinewidth": 0,
              "ticks": ""
             }
            },
            "type": "scattergl"
           }
          ],
          "scattermap": [
           {
            "marker": {
             "colorbar": {
              "outlinewidth": 0,
              "ticks": ""
             }
            },
            "type": "scattermap"
           }
          ],
          "scattermapbox": [
           {
            "marker": {
             "colorbar": {
              "outlinewidth": 0,
              "ticks": ""
             }
            },
            "type": "scattermapbox"
           }
          ],
          "scatterpolar": [
           {
            "marker": {
             "colorbar": {
              "outlinewidth": 0,
              "ticks": ""
             }
            },
            "type": "scatterpolar"
           }
          ],
          "scatterpolargl": [
           {
            "marker": {
             "colorbar": {
              "outlinewidth": 0,
              "ticks": ""
             }
            },
            "type": "scatterpolargl"
           }
          ],
          "scatterternary": [
           {
            "marker": {
             "colorbar": {
              "outlinewidth": 0,
              "ticks": ""
             }
            },
            "type": "scatterternary"
           }
          ],
          "surface": [
           {
            "colorbar": {
             "outlinewidth": 0,
             "ticks": ""
            },
            "colorscale": [
             [
              0,
              "#0d0887"
             ],
             [
              0.1111111111111111,
              "#46039f"
             ],
             [
              0.2222222222222222,
              "#7201a8"
             ],
             [
              0.3333333333333333,
              "#9c179e"
             ],
             [
              0.4444444444444444,
              "#bd3786"
             ],
             [
              0.5555555555555556,
              "#d8576b"
             ],
             [
              0.6666666666666666,
              "#ed7953"
             ],
             [
              0.7777777777777778,
              "#fb9f3a"
             ],
             [
              0.8888888888888888,
              "#fdca26"
             ],
             [
              1,
              "#f0f921"
             ]
            ],
            "type": "surface"
           }
          ],
          "table": [
           {
            "cells": {
             "fill": {
              "color": "#EBF0F8"
             },
             "line": {
              "color": "white"
             }
            },
            "header": {
             "fill": {
              "color": "#C8D4E3"
             },
             "line": {
              "color": "white"
             }
            },
            "type": "table"
           }
          ]
         },
         "layout": {
          "annotationdefaults": {
           "arrowcolor": "#2a3f5f",
           "arrowhead": 0,
           "arrowwidth": 1
          },
          "autotypenumbers": "strict",
          "coloraxis": {
           "colorbar": {
            "outlinewidth": 0,
            "ticks": ""
           }
          },
          "colorscale": {
           "diverging": [
            [
             0,
             "#8e0152"
            ],
            [
             0.1,
             "#c51b7d"
            ],
            [
             0.2,
             "#de77ae"
            ],
            [
             0.3,
             "#f1b6da"
            ],
            [
             0.4,
             "#fde0ef"
            ],
            [
             0.5,
             "#f7f7f7"
            ],
            [
             0.6,
             "#e6f5d0"
            ],
            [
             0.7,
             "#b8e186"
            ],
            [
             0.8,
             "#7fbc41"
            ],
            [
             0.9,
             "#4d9221"
            ],
            [
             1,
             "#276419"
            ]
           ],
           "sequential": [
            [
             0,
             "#0d0887"
            ],
            [
             0.1111111111111111,
             "#46039f"
            ],
            [
             0.2222222222222222,
             "#7201a8"
            ],
            [
             0.3333333333333333,
             "#9c179e"
            ],
            [
             0.4444444444444444,
             "#bd3786"
            ],
            [
             0.5555555555555556,
             "#d8576b"
            ],
            [
             0.6666666666666666,
             "#ed7953"
            ],
            [
             0.7777777777777778,
             "#fb9f3a"
            ],
            [
             0.8888888888888888,
             "#fdca26"
            ],
            [
             1,
             "#f0f921"
            ]
           ],
           "sequentialminus": [
            [
             0,
             "#0d0887"
            ],
            [
             0.1111111111111111,
             "#46039f"
            ],
            [
             0.2222222222222222,
             "#7201a8"
            ],
            [
             0.3333333333333333,
             "#9c179e"
            ],
            [
             0.4444444444444444,
             "#bd3786"
            ],
            [
             0.5555555555555556,
             "#d8576b"
            ],
            [
             0.6666666666666666,
             "#ed7953"
            ],
            [
             0.7777777777777778,
             "#fb9f3a"
            ],
            [
             0.8888888888888888,
             "#fdca26"
            ],
            [
             1,
             "#f0f921"
            ]
           ]
          },
          "colorway": [
           "#636efa",
           "#EF553B",
           "#00cc96",
           "#ab63fa",
           "#FFA15A",
           "#19d3f3",
           "#FF6692",
           "#B6E880",
           "#FF97FF",
           "#FECB52"
          ],
          "font": {
           "color": "#2a3f5f"
          },
          "geo": {
           "bgcolor": "white",
           "lakecolor": "white",
           "landcolor": "#E5ECF6",
           "showlakes": true,
           "showland": true,
           "subunitcolor": "white"
          },
          "hoverlabel": {
           "align": "left"
          },
          "hovermode": "closest",
          "mapbox": {
           "style": "light"
          },
          "paper_bgcolor": "white",
          "plot_bgcolor": "#E5ECF6",
          "polar": {
           "angularaxis": {
            "gridcolor": "white",
            "linecolor": "white",
            "ticks": ""
           },
           "bgcolor": "#E5ECF6",
           "radialaxis": {
            "gridcolor": "white",
            "linecolor": "white",
            "ticks": ""
           }
          },
          "scene": {
           "xaxis": {
            "backgroundcolor": "#E5ECF6",
            "gridcolor": "white",
            "gridwidth": 2,
            "linecolor": "white",
            "showbackground": true,
            "ticks": "",
            "zerolinecolor": "white"
           },
           "yaxis": {
            "backgroundcolor": "#E5ECF6",
            "gridcolor": "white",
            "gridwidth": 2,
            "linecolor": "white",
            "showbackground": true,
            "ticks": "",
            "zerolinecolor": "white"
           },
           "zaxis": {
            "backgroundcolor": "#E5ECF6",
            "gridcolor": "white",
            "gridwidth": 2,
            "linecolor": "white",
            "showbackground": true,
            "ticks": "",
            "zerolinecolor": "white"
           }
          },
          "shapedefaults": {
           "line": {
            "color": "#2a3f5f"
           }
          },
          "ternary": {
           "aaxis": {
            "gridcolor": "white",
            "linecolor": "white",
            "ticks": ""
           },
           "baxis": {
            "gridcolor": "white",
            "linecolor": "white",
            "ticks": ""
           },
           "bgcolor": "#E5ECF6",
           "caxis": {
            "gridcolor": "white",
            "linecolor": "white",
            "ticks": ""
           }
          },
          "title": {
           "x": 0.05
          },
          "xaxis": {
           "automargin": true,
           "gridcolor": "white",
           "linecolor": "white",
           "ticks": "",
           "title": {
            "standoff": 15
           },
           "zerolinecolor": "white",
           "zerolinewidth": 2
          },
          "yaxis": {
           "automargin": true,
           "gridcolor": "white",
           "linecolor": "white",
           "ticks": "",
           "title": {
            "standoff": 15
           },
           "zerolinecolor": "white",
           "zerolinewidth": 2
          }
         }
        },
        "title": {
         "text": "Interactive 3D Plot of Actual Heat"
        }
       }
      }
     },
     "metadata": {},
     "output_type": "display_data"
    }
   ],
   "source": [
    "import plotly.graph_objects as go\n",
    "\n",
    "X = geomtime.random_points(1000)\n",
    "y_pred = model.predict(X)\n",
    "y_true = true_solution(X)\n",
    "\n",
    "x = X[:, 0]\n",
    "t = X[:, 1]\n",
    "\n",
    "fig1=go.Figure(data=[go.Scatter3d(\n",
    "    x=x, y=t, z=y_pred.flatten(), \n",
    "    mode='markers',\n",
    "    marker=dict(size=2, color=y_pred.flatten(), colorscale='Viridis')\n",
    ")])\n",
    "\n",
    "fig1.update_layout(\n",
    "    scene=dict(\n",
    "        xaxis_title='x',\n",
    "        yaxis_title='t',\n",
    "        zaxis_title='u(x, t)'\n",
    "    ),\n",
    "    title=\"Interactive 3D Plot of Predicted Heat\"\n",
    ")\n",
    "\n",
    "fig2=go.Figure(data=[go.Scatter3d(\n",
    "    x=x, y=t, z=y_true.flatten(), \n",
    "    mode='markers',\n",
    "    marker=dict(size=2, color=y_true.flatten(), colorscale='Viridis')\n",
    ")])\n",
    "\n",
    "fig2.update_layout(\n",
    "    scene=dict(\n",
    "        xaxis_title='x',\n",
    "        yaxis_title='t',\n",
    "        zaxis_title='u(x, t)'\n",
    "    ),\n",
    "    title=\"Interactive 3D Plot of Actual Heat\"\n",
    ")\n",
    "\n",
    "fig1.show()\n",
    "fig2.show()\n",
    "\n"
   ]
  }
 ],
 "metadata": {
  "kernelspec": {
   "display_name": "cryo",
   "language": "python",
   "name": "python3"
  },
  "language_info": {
   "codemirror_mode": {
    "name": "ipython",
    "version": 3
   },
   "file_extension": ".py",
   "mimetype": "text/x-python",
   "name": "python",
   "nbconvert_exporter": "python",
   "pygments_lexer": "ipython3",
   "version": "3.12.3"
  }
 },
 "nbformat": 4,
 "nbformat_minor": 5
}
